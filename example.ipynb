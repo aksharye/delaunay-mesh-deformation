{
 "cells": [
  {
   "cell_type": "code",
   "execution_count": 1,
   "metadata": {},
   "outputs": [],
   "source": [
    "from mesh import Mesh"
   ]
  },
  {
   "cell_type": "code",
   "execution_count": 2,
   "metadata": {},
   "outputs": [],
   "source": [
    "v = []\n",
    "for i in range(0,11):\n",
    "  for j in range(0,11):\n",
    "    if not (i >= 4 and i <= 6 and j == 5):\n",
    "      v.append([i,j])\n",
    "\n",
    "f = []\n",
    "for i in range(0,10):\n",
    "  for j in range(0,10):\n",
    "    if not (i >= 3 and i <= 6 and j >= 4 and j <= 5):      \n",
    "      f.append([[i,j], [i+1,j], [i+1,j+1], [i,j+1]])\n"
   ]
  },
  {
   "cell_type": "code",
   "execution_count": 4,
   "metadata": {},
   "outputs": [
    {
     "data": {
      "image/png": "[encoded data removed]",
      "text/plain": [
       "<Figure size 640x480 with 1 Axes>"
      ]
     },
     "metadata": {},
     "output_type": "display_data"
    }
   ],
   "source": [
    "fi = Mesh.faces_points_to_index(v, f)\n",
    "mesh = Mesh(v,fi,2)\n",
    "mesh.visualize(max_x = 10, max_y = 10, show_axis=False)"
   ]
  }
 ],
 "metadata": {
  "kernelspec": {
   "display_name": "Python 3",
   "language": "python",
   "name": "python3"
  },
  "language_info": {
   "codemirror_mode": {
    "name": "ipython",
    "version": 3
   },
   "file_extension": ".py",
   "mimetype": "text/x-python",
   "name": "python",
   "nbconvert_exporter": "python",
   "pygments_lexer": "ipython3",
   "version": "3.12.3"
  }
 },
 "nbformat": 4,
 "nbformat_minor": 2
}
